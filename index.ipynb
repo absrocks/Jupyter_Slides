{
 "cells": [
  {
   "cell_type": "markdown",
   "id": "ded412f4",
   "metadata": {
    "slideshow": {
     "slide_type": "slide"
    }
   },
   "source": [
    "# HOW TO USE WULVER\n",
    "## Presented by \n",
    "## Abhishek Mukherjee\n",
    "### Research Computing Facilitator, NJIT"
   ]
  },
  {
   "cell_type": "markdown",
   "id": "4e2e7652",
   "metadata": {
    "slideshow": {
     "slide_type": "slide"
    }
   },
   "source": [
    "# Table of Contents\n",
    "* What is HPC\n",
    "* NJIT HPC History\n",
    "* The Hardware Specification Comparison\n",
    "* How to Access Wulver"
   ]
  }
 ],
 "metadata": {
  "celltoolbar": "Slideshow",
  "kernelspec": {
   "display_name": "Python 3 (ipykernel)",
   "language": "python",
   "name": "python3"
  },
  "language_info": {
   "codemirror_mode": {
    "name": "ipython",
    "version": 3
   },
   "file_extension": ".py",
   "mimetype": "text/x-python",
   "name": "python",
   "nbconvert_exporter": "python",
   "pygments_lexer": "ipython3",
   "version": "3.9.6"
  }
 },
 "nbformat": 4,
 "nbformat_minor": 5
}
